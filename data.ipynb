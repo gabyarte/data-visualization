{
 "cells": [
  {
   "cell_type": "code",
   "execution_count": 90,
   "metadata": {},
   "outputs": [],
   "source": [
    "import pandas as pd"
   ]
  },
  {
   "cell_type": "code",
   "execution_count": 91,
   "metadata": {},
   "outputs": [],
   "source": [
    "df1 = pd.read_csv('./data/input/annual_visitors.csv', sep=';')\n",
    "df2 = pd.read_csv('./data/input/annual_visitors_air.csv', sep=';')\n",
    "df3 = pd.read_csv('./data/input/age_group.csv')"
   ]
  },
  {
   "cell_type": "code",
   "execution_count": 92,
   "metadata": {},
   "outputs": [],
   "source": [
    "df3_m = pd.melt(df3, id_vars=['age_group']).rename({'variable': 'year', 'age_group': 'variable'}, axis=1).assign(category='Age Groups')"
   ]
  },
  {
   "cell_type": "code",
   "execution_count": 93,
   "metadata": {},
   "outputs": [],
   "source": [
    "df3_m['year'] = df3_m['year'].str[1:].astype(int)"
   ]
  },
  {
   "cell_type": "code",
   "execution_count": 94,
   "metadata": {},
   "outputs": [],
   "source": [
    "df = df1.merge(df2[['Country', 'Continente']].drop_duplicates(), left_on='country', right_on='Country', how='left')"
   ]
  },
  {
   "cell_type": "code",
   "execution_count": 95,
   "metadata": {},
   "outputs": [],
   "source": [
    "df['air_way'] = df['air_way'].div(100).mul(df['annual_visitors'])\n",
    "df['sea_way'] = df['sea_way'].div(100).mul(df['annual_visitors'])\n",
    "df['rail_way'] = df['rail_way'].div(100).mul(df['annual_visitors'])\n",
    "df['land_way'] = df['land_way'].div(100).mul(df['annual_visitors'])\n",
    "\n",
    "df['male_visitors'] = df['male_visitors'].div(100).mul(df['annual_visitors'])\n",
    "df['female_visitors'] = df['female_visitors'].div(100).mul(df['annual_visitors'])"
   ]
  },
  {
   "cell_type": "code",
   "execution_count": 96,
   "metadata": {},
   "outputs": [],
   "source": [
    "df_g = df.groupby(['year'], as_index=False)[[\n",
    "    'air_way',\n",
    "    'sea_way',\n",
    "    'rail_way',\n",
    "    'land_way',\n",
    "    'male_visitors',\n",
    "    'female_visitors',\n",
    "]].sum()"
   ]
  },
  {
   "cell_type": "code",
   "execution_count": 97,
   "metadata": {},
   "outputs": [],
   "source": [
    "df_c_g = df.groupby(['year', 'Continente'], as_index=False)[[\n",
    "    'annual_visitors'\n",
    "]].sum()"
   ]
  },
  {
   "cell_type": "code",
   "execution_count": 98,
   "metadata": {},
   "outputs": [],
   "source": [
    "df_m = pd.melt(df_g, id_vars=['year'])"
   ]
  },
  {
   "cell_type": "code",
   "execution_count": 99,
   "metadata": {},
   "outputs": [],
   "source": [
    "df_c_m = pd.melt(df_c_g, id_vars=['year', 'Continente']).drop('variable', axis=1).rename({'Continente': 'variable'}, axis=1).assign(category='Continent')"
   ]
  },
  {
   "cell_type": "code",
   "execution_count": 100,
   "metadata": {},
   "outputs": [],
   "source": [
    "df_m['variable'] = df_m['variable'].str.replace('_', ' ').str.capitalize()"
   ]
  },
  {
   "cell_type": "code",
   "execution_count": 101,
   "metadata": {},
   "outputs": [],
   "source": [
    "import numpy as np\n",
    "\n",
    "df_m['category'] = np.where(\n",
    "    df_m['variable'].str.contains(' way'),\n",
    "    'Transport mean',\n",
    "    'Sex'\n",
    ")"
   ]
  },
  {
   "cell_type": "code",
   "execution_count": 102,
   "metadata": {},
   "outputs": [],
   "source": [
    "df_f = pd.concat([df_m, df_c_m, df3_m])"
   ]
  },
  {
   "cell_type": "code",
   "execution_count": 103,
   "metadata": {},
   "outputs": [
    {
     "data": {
      "text/html": [
       "<div>\n",
       "<style scoped>\n",
       "    .dataframe tbody tr th:only-of-type {\n",
       "        vertical-align: middle;\n",
       "    }\n",
       "\n",
       "    .dataframe tbody tr th {\n",
       "        vertical-align: top;\n",
       "    }\n",
       "\n",
       "    .dataframe thead th {\n",
       "        text-align: right;\n",
       "    }\n",
       "</style>\n",
       "<table border=\"1\" class=\"dataframe\">\n",
       "  <thead>\n",
       "    <tr style=\"text-align: right;\">\n",
       "      <th></th>\n",
       "      <th>year</th>\n",
       "      <th>variable</th>\n",
       "      <th>value</th>\n",
       "      <th>category</th>\n",
       "    </tr>\n",
       "  </thead>\n",
       "  <tbody>\n",
       "    <tr>\n",
       "      <th>0</th>\n",
       "      <td>2014</td>\n",
       "      <td>Air way</td>\n",
       "      <td>7090670.499</td>\n",
       "      <td>Transport mean</td>\n",
       "    </tr>\n",
       "    <tr>\n",
       "      <th>1</th>\n",
       "      <td>2015</td>\n",
       "      <td>Air way</td>\n",
       "      <td>7392856.960</td>\n",
       "      <td>Transport mean</td>\n",
       "    </tr>\n",
       "    <tr>\n",
       "      <th>2</th>\n",
       "      <td>2016</td>\n",
       "      <td>Air way</td>\n",
       "      <td>7111654.142</td>\n",
       "      <td>Transport mean</td>\n",
       "    </tr>\n",
       "    <tr>\n",
       "      <th>3</th>\n",
       "      <td>2017</td>\n",
       "      <td>Air way</td>\n",
       "      <td>7667794.071</td>\n",
       "      <td>Transport mean</td>\n",
       "    </tr>\n",
       "    <tr>\n",
       "      <th>4</th>\n",
       "      <td>2018</td>\n",
       "      <td>Air way</td>\n",
       "      <td>8064517.823</td>\n",
       "      <td>Transport mean</td>\n",
       "    </tr>\n",
       "    <tr>\n",
       "      <th>...</th>\n",
       "      <td>...</td>\n",
       "      <td>...</td>\n",
       "      <td>...</td>\n",
       "      <td>...</td>\n",
       "    </tr>\n",
       "    <tr>\n",
       "      <th>44</th>\n",
       "      <td>2020</td>\n",
       "      <td>25-34</td>\n",
       "      <td>1344.500</td>\n",
       "      <td>Age Groups</td>\n",
       "    </tr>\n",
       "    <tr>\n",
       "      <th>45</th>\n",
       "      <td>2020</td>\n",
       "      <td>35-44</td>\n",
       "      <td>1330.300</td>\n",
       "      <td>Age Groups</td>\n",
       "    </tr>\n",
       "    <tr>\n",
       "      <th>46</th>\n",
       "      <td>2020</td>\n",
       "      <td>45-54</td>\n",
       "      <td>1230.900</td>\n",
       "      <td>Age Groups</td>\n",
       "    </tr>\n",
       "    <tr>\n",
       "      <th>47</th>\n",
       "      <td>2020</td>\n",
       "      <td>55-64</td>\n",
       "      <td>959.400</td>\n",
       "      <td>Age Groups</td>\n",
       "    </tr>\n",
       "    <tr>\n",
       "      <th>48</th>\n",
       "      <td>2020</td>\n",
       "      <td>65-above</td>\n",
       "      <td>568.500</td>\n",
       "      <td>Age Groups</td>\n",
       "    </tr>\n",
       "  </tbody>\n",
       "</table>\n",
       "<p>126 rows × 4 columns</p>\n",
       "</div>"
      ],
      "text/plain": [
       "    year  variable        value        category\n",
       "0   2014   Air way  7090670.499  Transport mean\n",
       "1   2015   Air way  7392856.960  Transport mean\n",
       "2   2016   Air way  7111654.142  Transport mean\n",
       "3   2017   Air way  7667794.071  Transport mean\n",
       "4   2018   Air way  8064517.823  Transport mean\n",
       "..   ...       ...          ...             ...\n",
       "44  2020     25-34     1344.500      Age Groups\n",
       "45  2020     35-44     1330.300      Age Groups\n",
       "46  2020     45-54     1230.900      Age Groups\n",
       "47  2020     55-64      959.400      Age Groups\n",
       "48  2020  65-above      568.500      Age Groups\n",
       "\n",
       "[126 rows x 4 columns]"
      ]
     },
     "execution_count": 103,
     "metadata": {},
     "output_type": "execute_result"
    }
   ],
   "source": [
    "df_f"
   ]
  },
  {
   "cell_type": "code",
   "execution_count": 73,
   "metadata": {},
   "outputs": [],
   "source": [
    "df_f.to_csv('yearly_categories.csv')"
   ]
  }
 ],
 "metadata": {
  "kernelspec": {
   "display_name": "Python 3",
   "language": "python",
   "name": "python3"
  },
  "language_info": {
   "codemirror_mode": {
    "name": "ipython",
    "version": 3
   },
   "file_extension": ".py",
   "mimetype": "text/x-python",
   "name": "python",
   "nbconvert_exporter": "python",
   "pygments_lexer": "ipython3",
   "version": "3.9.6"
  },
  "orig_nbformat": 4,
  "vscode": {
   "interpreter": {
    "hash": "2291b52653c1de4367e804254b7ce1af241d7f9c27ed8d139c780a66f6745294"
   }
  }
 },
 "nbformat": 4,
 "nbformat_minor": 2
}
